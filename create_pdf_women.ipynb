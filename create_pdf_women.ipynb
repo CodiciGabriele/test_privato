import gdown
import papermill as pm
import requests

file_url = "https://drive.google.com/uc?id=1c7rNdvVV0z_MUZr6CdZrAUqdh204lwsU"
output_notebook = "notebook.ipynb"

gdown.download(file_url, output_notebook, quiet=False)

output_executed_notebook = "notebook_output.ipynb"

pm.execute_notebook(
   output_notebook,           # Notebook scaricato
   output_executed_notebook    # Notebook di output dopo l'esecuzione
)
