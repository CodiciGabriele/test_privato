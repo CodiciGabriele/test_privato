{
  "nbformat": 4,
  "nbformat_minor": 0,
  "metadata": {
    "colab": {
      "provenance": [],
      "authorship_tag": "ABX9TyPtz9S2c81rK/K2LwlB+NQa",
      "include_colab_link": true
    },
    "kernelspec": {
      "name": "python3",
      "display_name": "Python 3"
    },
    "language_info": {
      "name": "python"
    }
  },
  "cells": [
    {
      "cell_type": "markdown",
      "metadata": {
        "id": "view-in-github",
        "colab_type": "text"
      },
      "source": [
        "<a href=\"https://colab.research.google.com/github/CodiciGabriele/test_privato/blob/main/create_job_infogen.ipynb\" target=\"_parent\"><img src=\"https://colab.research.google.com/assets/colab-badge.svg\" alt=\"Open In Colab\"/></a>"
      ]
    },
    {
      "cell_type": "code",
      "execution_count": null,
      "metadata": {
        "id": "r1BxLJ6Dhyhh"
      },
      "outputs": [],
      "source": [
        "!pip install --upgrade papermill\n",
        "\n",
        "import gdown\n",
        "import papermill as pm\n",
        "import requests\n",
        "\n",
        "# Step 1: Scarica il notebook dal link pubblico di Google Drive utilizzando gdown\n",
        "# Link pubblico al tuo notebook su Google Drive\n",
        "file_url = \"https://drive.google.com/uc?id=14IQ10aw4fOefmxOXaReUOjiFUJa7Z5si\"\n",
        "output_notebook = \"notebook.ipynb\"\n",
        "\n",
        "gdown.download(file_url, output_notebook, quiet=False)\n",
        "\n",
        "output_executed_notebook = \"notebook_output.ipynb\"\n",
        "\n",
        "pm.execute_notebook(\n",
        "   output_notebook,           # Notebook scaricato\n",
        "   output_executed_notebook    # Notebook di output dopo l'esecuzione\n",
        ")"
      ]
    }
  ]
}